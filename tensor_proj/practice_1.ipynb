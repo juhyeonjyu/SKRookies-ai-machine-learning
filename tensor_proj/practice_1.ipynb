{
 "cells": [
  {
   "cell_type": "code",
   "execution_count": 13,
   "id": "ebebf5b9",
   "metadata": {},
   "outputs": [],
   "source": [
    "import os\n",
    "import requests\n",
    "import json\n",
    "from dotenv import load_dotenv\n",
    "from openai import OpenAI"
   ]
  },
  {
   "cell_type": "code",
   "execution_count": 2,
   "id": "de41c403",
   "metadata": {},
   "outputs": [],
   "source": [
    "# OpenAI API 키 설정\n",
    "load_dotenv()\n",
    "OPENAI_API_KEY = os.getenv('OPENAI_API_KEY')"
   ]
  },
  {
   "cell_type": "code",
   "execution_count": 15,
   "id": "9eea039f",
   "metadata": {},
   "outputs": [],
   "source": [
    "# 나이 계산 함수 정의\n",
    "def calculate_age(birth_date):\n",
    "    from datetime import datetime\n",
    "    today = datetime.today()\n",
    "    birth_date = datetime.strptime(birth_date, '%Y-%m-%d')\n",
    "    age = today.year - birth_date.year - ((today.month, today.day) < (birth_date.month, birth_date.day))\n",
    "    return age"
   ]
  },
  {
   "cell_type": "code",
   "execution_count": 16,
   "id": "2fc1ef8a",
   "metadata": {},
   "outputs": [],
   "source": [
    "# 환율 변환 함수 정의\n",
    "def convert_currency(amount, from_currency, to_currency, rate) :\n",
    "    if from_currency == to_currency:\n",
    "        return amount\n",
    "    return amount * rate"
   ]
  },
  {
   "cell_type": "code",
   "execution_count": 17,
   "id": "72c27c23",
   "metadata": {},
   "outputs": [],
   "source": [
    "# BMI 계산 함수 정의\n",
    "def calculate_bmi(weight, height):\n",
    "    if height <= 0:\n",
    "        raise ValueError(\"Height must be greater than zero.\")\n",
    "    bmi = weight / (height ** 2)\n",
    "    return round(bmi, 2)"
   ]
  },
  {
   "cell_type": "code",
   "execution_count": null,
   "id": "fbc29954",
   "metadata": {},
   "outputs": [],
   "source": [
    "# 함수 호출 정의\n",
    "# 툴 스펙\n",
    "tools = [{\n",
    "    'type': 'function',\n",
    "    'name' : 'calculate_age',\n",
    "    'description': 'Calculate age from birth date in YYYY-MM-DD format.',\n",
    "    'parameters': {\n",
    "        'type': 'object',\n",
    "        'properties': {\n",
    "            'birth_date': {\n",
    "                'type': 'string',\n",
    "                'format': 'date',\n",
    "                'description': 'Birth date in YYYY-MM-DD format.'\n",
    "            }\n",
    "        },\n",
    "        'required': ['birth_date']\n",
    "    }\n",
    "}, {\n",
    "    'type': 'function',\n",
    "    'name': 'convert_currency',\n",
    "    'description': 'Convert currency from one type to another using a given exchange rate.',\n",
    "    'parameters': {\n",
    "        'type': 'object',\n",
    "        'properties': {\n",
    "            'amount': {\n",
    "                'type': 'number',\n",
    "                'description': 'Amount of money to convert.'\n",
    "            },\n",
    "            'from_currency': {\n",
    "                'type': 'string',\n",
    "                'description': 'Currency code to convert from.'\n",
    "            },\n",
    "            'to_currency': {\n",
    "                'type': 'string',\n",
    "                'description': 'Currency code to convert to.'\n",
    "            },\n",
    "            'rate': {\n",
    "                'type': 'number',\n",
    "                'description': 'Exchange rate from from_currency to to_currency.'\n",
    "            }\n",
    "        },\n",
    "        'required': ['amount', 'from_currency', 'to_currency', 'rate']\n",
    "    }\n",
    "}, {\n",
    "    'type': 'function',\n",
    "    'name': 'calculate_bmi',\n",
    "    'description': 'Calculate Body Mass Index (BMI) from weight in kg and height in meters.',\n",
    "    'parameters': {\n",
    "        'type': 'object',\n",
    "        'properties': {\n",
    "            'weight': {\n",
    "                'type': 'number',\n",
    "                'description': 'Weight in kilograms.'\n",
    "            },\n",
    "            'height': {\n",
    "                'type': 'number',\n",
    "                'description': 'Height in meters.'\n",
    "            }\n",
    "        },\n",
    "        'required': ['weight', 'height']\n",
    "    }\n",
    "}]"
   ]
  },
  {
   "cell_type": "code",
   "execution_count": 23,
   "id": "fec1992f",
   "metadata": {},
   "outputs": [],
   "source": [
    "client = OpenAI(api_key=OPENAI_API_KEY)"
   ]
  },
  {
   "cell_type": "code",
   "execution_count": null,
   "id": "7d565121",
   "metadata": {},
   "outputs": [],
   "source": [
    "# 나이 계산 프롬프트\n",
    "input_messages = [{\n",
    "    'role' : 'user',\n",
    "    'content' : '1992-05-01생의 만 나이는?'\n",
    "}]\n",
    "\n",
    "# 모델의 함수 호출 요청\n",
    "response = client.responses.create(\n",
    "    model = 'gpt-4.1',\n",
    "    input = input_messages,\n",
    "    tools = tools\n",
    ")"
   ]
  },
  {
   "cell_type": "code",
   "execution_count": null,
   "id": "c9f9ab4a",
   "metadata": {},
   "outputs": [
    {
     "name": "stdout",
     "output_type": "stream",
     "text": [
      "1992년 5월 1일생의 만 나이는 33세입니다.\n"
     ]
    }
   ],
   "source": [
    "# 함수 코드 실행\n",
    "tool_call = response.output[0]\n",
    "args = json.loads(tool_call.arguments)\n",
    "\n",
    "result = calculate_age(args['birth_date'])\n",
    "\n",
    "# 모델에게 실행 결과 전달\n",
    "input_messages.append(tool_call)\n",
    "input_messages.append({\n",
    "    'type' : 'function_call_output',\n",
    "    'call_id' : tool_call.call_id,\n",
    "    'output' : str(result)\n",
    "})\n",
    "\n",
    "# 최종 응답 생성\n",
    "final_response = client.responses.create(\n",
    "    model='gpt-4.1',\n",
    "    input=input_messages,\n",
    "    tools=tools\n",
    ")\n",
    "\n",
    "print(final_response.output_text)"
   ]
  },
  {
   "cell_type": "code",
   "execution_count": null,
   "id": "d4dc295d",
   "metadata": {},
   "outputs": [],
   "source": [
    "# 환율 변환 프롬프트\n",
    "input_messages = [{\n",
    "    'role' : 'user',\n",
    "    'content' : '100달러를 원화로 바꿔줘. 환율은 1330원을 적용해줘.'\n",
    "}]\n",
    "\n",
    "# 모델의 함수 호출 요청\n",
    "response = client.responses.create(\n",
    "    model = 'gpt-4.1',\n",
    "    input = input_messages,\n",
    "    tools = tools\n",
    ")"
   ]
  },
  {
   "cell_type": "code",
   "execution_count": null,
   "id": "37498d51",
   "metadata": {},
   "outputs": [
    {
     "name": "stdout",
     "output_type": "stream",
     "text": [
      "100달러를 원화로 환전하면, 환율 1330원을 적용했을 때 133,000원이 됩니다.\n"
     ]
    }
   ],
   "source": [
    "# 함수 코드 실행\n",
    "tool_call = response.output[0]\n",
    "args = json.loads(tool_call.arguments)\n",
    "\n",
    "result = convert_currency(args['amount'], args['from_currency'], args['to_currency'], args['rate'])\n",
    "\n",
    "# 모델에게 실행 결과 전달\n",
    "input_messages.append(tool_call)\n",
    "input_messages.append({\n",
    "    'type' : 'function_call_output',\n",
    "    'call_id' : tool_call.call_id,\n",
    "    'output' : str(result)\n",
    "})\n",
    "\n",
    "# 최종 응답 생성\n",
    "final_response = client.responses.create(\n",
    "    model='gpt-4.1',\n",
    "    input=input_messages,\n",
    "    tools=tools\n",
    ")\n",
    "\n",
    "print(final_response.output_text)"
   ]
  },
  {
   "cell_type": "code",
   "execution_count": null,
   "id": "ec90dbf9",
   "metadata": {},
   "outputs": [],
   "source": [
    "# BMI 계산 프롬프트\n",
    "input_messages = [{\n",
    "    'role' : 'user',\n",
    "    'content' : '키 170cm, 몸무게 65kg의 BMI는?'\n",
    "}]\n",
    "\n",
    "# 모델의 함수 호출 요청\n",
    "response = client.responses.create(\n",
    "    model = 'gpt-4.1',\n",
    "    input = input_messages,\n",
    "    tools = tools\n",
    ")"
   ]
  },
  {
   "cell_type": "code",
   "execution_count": null,
   "id": "90031929",
   "metadata": {},
   "outputs": [
    {
     "name": "stdout",
     "output_type": "stream",
     "text": [
      "키 170cm(1.7m), 몸무게 65kg인 경우의 BMI를 계산해드리면 다음과 같습니다:\n",
      "\n",
      "BMI = 22.5\n",
      "\n",
      "이는 표준체중 범위(18.5~24.9)에 해당합니다. 건강한 체중입니다!\n"
     ]
    }
   ],
   "source": [
    "# 함수 코드 실행\n",
    "tool_call = response.output[0]\n",
    "args = json.loads(tool_call.arguments)\n",
    "\n",
    "result = calculate_bmi(args['height'], args['weight'])\n",
    "\n",
    "# 모델에게 실행 결과 전달\n",
    "input_messages.append(tool_call)\n",
    "input_messages.append({\n",
    "    'type' : 'function_call_output',\n",
    "    'call_id' : tool_call.call_id,\n",
    "    'output' : str(result)\n",
    "})\n",
    "\n",
    "# 최종 응답 생성\n",
    "final_response = client.responses.create(\n",
    "    model='gpt-4.1',\n",
    "    input=input_messages,\n",
    "    tools=tools\n",
    ")\n",
    "\n",
    "print(final_response.output_text)"
   ]
  }
 ],
 "metadata": {
  "kernelspec": {
   "display_name": ".venv",
   "language": "python",
   "name": "python3"
  },
  "language_info": {
   "codemirror_mode": {
    "name": "ipython",
    "version": 3
   },
   "file_extension": ".py",
   "mimetype": "text/x-python",
   "name": "python",
   "nbconvert_exporter": "python",
   "pygments_lexer": "ipython3",
   "version": "3.9.13"
  }
 },
 "nbformat": 4,
 "nbformat_minor": 5
}

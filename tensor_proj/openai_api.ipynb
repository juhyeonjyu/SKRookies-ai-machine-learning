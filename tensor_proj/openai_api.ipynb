{
 "cells": [
  {
   "cell_type": "code",
   "execution_count": null,
   "id": "876eee3a",
   "metadata": {},
   "outputs": [
    {
     "name": "stdout",
     "output_type": "stream",
     "text": [
      "Collecting python-dotenvNote: you may need to restart the kernel to use updated packages.\n",
      "\n",
      "  Downloading python_dotenv-1.1.1-py3-none-any.whl.metadata (24 kB)\n",
      "Downloading python_dotenv-1.1.1-py3-none-any.whl (20 kB)\n",
      "Installing collected packages: python-dotenv\n",
      "Successfully installed python-dotenv-1.1.1\n"
     ]
    }
   ],
   "source": [
    "# pip install python-dotenv   # 확장자가 env인 파일 읽어서 처리"
   ]
  },
  {
   "cell_type": "code",
   "execution_count": 5,
   "id": "d89777a5",
   "metadata": {},
   "outputs": [],
   "source": [
    "# pip install openai"
   ]
  },
  {
   "cell_type": "code",
   "execution_count": 7,
   "id": "e7ac0bd0",
   "metadata": {},
   "outputs": [],
   "source": [
    "from dotenv import load_dotenv\n",
    "import os\n",
    "\n",
    "load_dotenv()\n",
    "\n",
    "OPENAI_API_KEY = os.getenv('OPENAI_API_KEY')    # .env 파일에서 OPENAI_API_KEY 환경변수 읽기\n",
    "\n",
    "# print('Key : ', OPENAI_API_KEY)\n",
    "# API 키를 절대 Public에 노출하지 말 것"
   ]
  },
  {
   "cell_type": "code",
   "execution_count": 8,
   "id": "a1a6b170",
   "metadata": {},
   "outputs": [],
   "source": [
    "from openai import OpenAI\n",
    "\n",
    "client = OpenAI(api_key=OPENAI_API_KEY)"
   ]
  },
  {
   "cell_type": "code",
   "execution_count": null,
   "id": "b67c9c9c",
   "metadata": {},
   "outputs": [],
   "source": [
    "# from openai import OpenAI\n",
    "\n",
    "# client = OpenAI(api_key=OPENAI_API_KEY)\n",
    "\n",
    "response = client.responses.create(\n",
    "    model = 'gpt-4.1',\n",
    "    input = '스타워즈 시리즈의 다스 베이더의 역할에 대해 한 줄로 설명해 주세요.'\n",
    ")"
   ]
  },
  {
   "cell_type": "code",
   "execution_count": 7,
   "id": "b8b30eb9",
   "metadata": {},
   "outputs": [
    {
     "data": {
      "text/plain": [
       "'다스 베이더는 스타워즈 시리즈에서 제국의 암흑 군주로, 오비완 케노비의 제자 아나킨 스카이워커에서 타락한 존재입니다.'"
      ]
     },
     "execution_count": 7,
     "metadata": {},
     "output_type": "execute_result"
    }
   ],
   "source": [
    "response.output_text    # 객체 형식"
   ]
  },
  {
   "cell_type": "code",
   "execution_count": 8,
   "id": "7696ab8c",
   "metadata": {},
   "outputs": [
    {
     "name": "stdout",
     "output_type": "stream",
     "text": [
      "다스 베이더는 타락한 제다이 기사로, 은하 제국의 상징적인 악당이자 루크 스카이워커의 아버지로서 이야기의 핵심 갈등과 비극을 이끄는 인물입니다.\n"
     ]
    }
   ],
   "source": [
    "response = client.responses.create(\n",
    "    model = 'gpt-4.1',\n",
    "    instructions = '당신은 영화 평론가입니다.', # 역할에 대한 가이드\n",
    "    input = '스타워즈 시리즈의 다스 베이더의 역할에 대해 한 줄로 설명해 주세요.'    # 프롬프트\n",
    ")\n",
    "print(response.output_text)  # 문자열 형식"
   ]
  },
  {
   "cell_type": "code",
   "execution_count": 9,
   "id": "655514f3",
   "metadata": {},
   "outputs": [
    {
     "name": "stdout",
     "output_type": "stream",
     "text": [
      "오늘은 특별히 어떤 종류의 음식이 땡기나요? 한식, 일식, 중식, 양식 중에서 고민하고 계신가요, 아니면 간단하게 집에서 해 먹을 수 있는 메뉴가 필요하신가요?\n",
      "\n",
      "예를 들어서:\n",
      "\n",
      "- **한식**: 김치찌개, 불고기, 비빔밥, 김밥\n",
      "- **일식**: 가츠동, 라멘, 초밥, 오코노미야끼\n",
      "- **중식**: 짜장면, 짬뽕, 탕수육, 마파두부\n",
      "- **양식**: 파스타, 샐러드, 스테이크, 피자\n",
      "\n",
      "혹시 오늘 날씨나 기분에 따라 더 어울리는 음식이 있을 수도 있어요. 쌀쌀하면 따뜻한 찌개류나 국물 음식, 더운 날엔 시원한 냉면이나 샐러드도 좋죠!\n",
      "\n",
      "어떤 메뉴가 끌리는지, 아니면 집에 재료가 있는지 알려주시면 좀 더 구체적으로 추천해드릴 수 있어요! 😊\n"
     ]
    }
   ],
   "source": [
    "response = client.responses.create(\n",
    "    model = 'gpt-4.1',\n",
    "    input = [\n",
    "        {\n",
    "            'role' : 'developer',\n",
    "            'content' : '음식에 대한 이야기 하는 것을 좋아해.'\n",
    "        },\n",
    "        {\n",
    "            'role' : 'user',\n",
    "            'content' : '오늘은 무엇을 먹을까?'\n",
    "        }]\n",
    ")\n",
    "print(response.output_text)"
   ]
  },
  {
   "cell_type": "code",
   "execution_count": 10,
   "id": "6305c154",
   "metadata": {},
   "outputs": [],
   "source": [
    "completion = client.chat.completions.create(\n",
    "    model = 'gpt-4.1',\n",
    "    messages= [\n",
    "        {\n",
    "            'role' : 'user',\n",
    "            'content' : '스타워즈 시리즈에 대해 한 문장으로 설명해줘.'\n",
    "        }\n",
    "    ]\n",
    ")"
   ]
  },
  {
   "cell_type": "code",
   "execution_count": 11,
   "id": "88fe2f71",
   "metadata": {},
   "outputs": [
    {
     "data": {
      "text/plain": [
       "'스타워즈 시리즈는 먼 우주의 은하계에서 선과 악의 대결, 제다이와 시스, 그리고 가족의 이야기를 그린 SF 판타지 영화 시리즈입니다.'"
      ]
     },
     "execution_count": 11,
     "metadata": {},
     "output_type": "execute_result"
    }
   ],
   "source": [
    "# dict(completion.choices[0])  # 객체 형식\n",
    "completion.choices[0].message.content"
   ]
  },
  {
   "cell_type": "code",
   "execution_count": 12,
   "id": "71f6258b",
   "metadata": {},
   "outputs": [
    {
     "name": "stdout",
     "output_type": "stream",
     "text": [
      "[입력하신 프롬프트] :  카레가루 5T에 탄수화물이 많이 들어갈까?\n",
      "좋은 질문입니다! 카레가루(일반적으로 시판되는 분말 카레 기준)에 들어있는 탄수화물 함량은 제품마다 조금 다르지만, 평균적으로 대략 아래와 같습니다.\n",
      "\n",
      "### **일반적인 카레가루 영양성분 (100g 기준)**\n",
      "- **탄수화물**: 약 50~70g  \n",
      "- **1T (테이블스푼, 약 8g 기준)**  \n",
      "  - 1T 당 탄수화물: 약 4~5.6g  \n",
      "- **5T라면?**\n",
      "  - 5T(약 40g) × 50~70% = 탄수화물 약 20~28g\n",
      "\n",
      "#### **카레가루 5T(40g) 기준 탄수화물**\n",
      "- **약 20~28g** 정도\n",
      "\n",
      "---\n",
      "\n",
      "### 추가 설명\n",
      "- 시판되는 분말 카레가루에는 밀가루, 감자전분 등 탄수화물이 포함되어 있기 때문에 생각보다 탄수화물이 많습니다.\n",
      "- 특히 시판되는 \"카레 블록\" 제품(고형 카레)은 기본적으로 밀가루 비율이 높아서, 분말 카레가루보다 더 높은 탄수화물 함량을 가질 수 있습니다.\n",
      "\n",
      "---\n",
      "\n",
      "### **결론**\n",
      "네, **카레가루 5T에는 탄수화물이 꽤 많이 들어 있습니다.**  \n",
      "저탄수화물 식단을 하신다면, 카레가루 양을 조절하거나, 저탄수화물 레시피를 활용하시는 것이 좋겠습니다.\n",
      "\n",
      "추가 질문 있으면 언제든 말씀해 주세요!\n"
     ]
    }
   ],
   "source": [
    "# Python을 활용한 OpenAI API 호출\n",
    "# 콘솔에서 사용자 입력(질문, 프롬프트)를 받고 응답 처리하는 프로그램을 만들어 봅시다.\n",
    "question= input('무엇을 도와드릴까요? ')\n",
    "response = client.responses.create(\n",
    "    model = 'gpt-4.1',\n",
    "    instructions = '당신은 의사입니다.',\n",
    "    input = question\n",
    ")\n",
    "print('[입력하신 프롬프트] : ', question)\n",
    "print(response.output_text)"
   ]
  },
  {
   "cell_type": "code",
   "execution_count": 13,
   "id": "ba6c90f0",
   "metadata": {},
   "outputs": [
    {
     "name": "stdout",
     "output_type": "stream",
     "text": [
      "우리 친구~ 오뚜기 매운맛 카레가루가 궁금했구나! 선생님이 쉽게 알려줄게!\n",
      "\n",
      "**오뚜기 매운맛 카레가루**는 보통 100g에 약 70g 정도의 탄수화물이 들어 있어.  \n",
      "한 큰술(1T, 테이블스푼)은 약 7~8g 정도 되니까, 5T는 35~40g이야.\n",
      "\n",
      "그래서 **5T(약 35~40g)**에는 **약 24~28g**의 탄수화물이 들어 있어!\n",
      "\n",
      "숫자가 조금 어렵지?  \n",
      "카레가루 5숟가락을 먹으면, 우리 몸에 좋은 힘을 주는 탄수화물이 찰칵! 하고 들어온다고 생각하면 돼~  \n",
      "혹시 더 궁금한 거 있니? ^_^\n"
     ]
    }
   ],
   "source": [
    "# 강사님 코드\n",
    "user_input = input('안녕하세요. 무엇이 궁금하신가요? 질문을 남겨주세요! ')\n",
    "response = client.responses.create(\n",
    "    model='gpt-4.1',\n",
    "    input = [\n",
    "        {\n",
    "            'role': 'developer',\n",
    "            'content': '너는 유치원 선생님이야. 아이들을 대하는 것처럼 이야기해줘.'\n",
    "        },\n",
    "        {\n",
    "            'role': 'user',\n",
    "            'content': user_input\n",
    "}\n",
    "     ]\n",
    ")\n",
    "print(response.output_text)"
   ]
  },
  {
   "cell_type": "code",
   "execution_count": 14,
   "id": "1dd3a55c",
   "metadata": {},
   "outputs": [],
   "source": [
    "import requests\n",
    "\n",
    "def get_weather(latitude, longitude):\n",
    "    response = requests.get(f\"https://api.open-meteo.com/v1/forecast?latitude={latitude}&longitude={longitude}&current=temperature_2m,wind_speed_10m&hourly=temperature_2m,relative_humidity_2m,wind_speed_10m\")\n",
    "    data = response.json()\n",
    "    return data['current']['temperature_2m']"
   ]
  },
  {
   "cell_type": "code",
   "execution_count": 15,
   "id": "8eced5e4",
   "metadata": {},
   "outputs": [],
   "source": [
    "tools = [{\n",
    "    \"type\": \"function\",\n",
    "    \"name\": \"get_weather\",\n",
    "    \"description\": \"Get current temperature for provided coordinates in celsius.\",\n",
    "    \"parameters\": {\n",
    "        \"type\": \"object\",\n",
    "        \"properties\": {\n",
    "        \"latitude\": {\"type\": \"number\"},\n",
    "        \"longitude\": {\"type\": \"number\"}\n",
    "        },\n",
    "        \"required\": [\"latitude\", \"longitude\"],\n",
    "        \"additionalProperties\": False\n",
    "    },\n",
    "    \"strict\": True\n",
    "}]"
   ]
  },
  {
   "cell_type": "code",
   "execution_count": 16,
   "id": "7ecfdc78",
   "metadata": {},
   "outputs": [],
   "source": [
    "input_messages = [{ 'role' : 'user', 'content' : '오늘 파리 날씨 어때?' }]\n",
    "\n",
    "# 함수 호출하는 기능\n",
    "response = client.responses.create(\n",
    "    model='gpt-4.1',\n",
    "    input=input_messages,\n",
    "    tools=tools,\n",
    ")"
   ]
  },
  {
   "cell_type": "code",
   "execution_count": 17,
   "id": "2fea74b1",
   "metadata": {},
   "outputs": [
    {
     "data": {
      "text/plain": [
       "{'arguments': '{\"latitude\":48.8566,\"longitude\":2.3522}',\n",
       " 'call_id': 'call_lEUkT1A6pPeA0KwbJyaXTW40',\n",
       " 'name': 'get_weather',\n",
       " 'type': 'function_call',\n",
       " 'id': 'fc_685ca0a877dc819bba340d83a60a64ce0baa13016881d1e3',\n",
       " 'status': 'completed'}"
      ]
     },
     "execution_count": 17,
     "metadata": {},
     "output_type": "execute_result"
    }
   ],
   "source": [
    "dict(response.output[0])"
   ]
  },
  {
   "cell_type": "code",
   "execution_count": 18,
   "id": "ba6abef8",
   "metadata": {},
   "outputs": [
    {
     "name": "stdout",
     "output_type": "stream",
     "text": [
      "21.6\n"
     ]
    }
   ],
   "source": [
    "import json\n",
    "\n",
    "tool_call = response.output[0]\n",
    "args = json.loads(tool_call.arguments)\n",
    "result = get_weather(args['latitude'], args['longitude'])\n",
    "print(result)"
   ]
  },
  {
   "cell_type": "code",
   "execution_count": 19,
   "id": "6d0a4876",
   "metadata": {},
   "outputs": [],
   "source": [
    "input_messages.append(tool_call)\n",
    "input_messages.append({\n",
    "    'type' : 'function_call_output',\n",
    "    'call_id' : tool_call.call_id, # call_id로 수정\n",
    "    'output' : str(result)  # 문자열 반환\n",
    "})\n",
    "\n",
    "# 최종 응답\n",
    "response2 = client.responses.create(\n",
    "    model='gpt-4.1',\n",
    "    input=input_messages,\n",
    "    tools=tools\n",
    ")"
   ]
  },
  {
   "cell_type": "code",
   "execution_count": 20,
   "id": "733f7663",
   "metadata": {},
   "outputs": [
    {
     "name": "stdout",
     "output_type": "stream",
     "text": [
      "오늘 파리의 기온은 약 21.6°C로, 온화하고 쾌적한 날씨입니다. 외출하기 좋은 날씨예요!\n"
     ]
    }
   ],
   "source": [
    "print(response2.output_text)  # 최종 응답 출력\n",
    "\n",
    "# tool_call.call_id 수정 후, 위에서부터 순차적으로 실행했습니다."
   ]
  },
  {
   "cell_type": "code",
   "execution_count": 1,
   "id": "b7e91700",
   "metadata": {},
   "outputs": [],
   "source": [
    "from tools.basic_tools import calculate_age, convert_currency, calculate_bmi"
   ]
  },
  {
   "cell_type": "code",
   "execution_count": 9,
   "id": "9cba01c9",
   "metadata": {},
   "outputs": [],
   "source": [
    "fn_tools = [\n",
    "    {\n",
    "        \"type\": \"function\",\n",
    "        \"name\": \"calculate_age\",\n",
    "        \"description\": \"입력된 생년월일(YYYY-mm-dd)로 만 나이를 계산합니다.\",\n",
    "        \"parameters\": {\n",
    "            \"type\": \"object\",\n",
    "            \"properties\": {\n",
    "                \"birthdate\": {\"type\": \"string\", \"description\": \"생년월일, 형식:YYYY-MM-DD\"}\n",
    "            },\n",
    "        \"required\": [\"birthdate\"],\n",
    "        \"additionalProperties\": False\n",
    "        },\n",
    "        \"strict\": True\n",
    "    },\n",
    "    {\n",
    "        \"type\": \"function\",\n",
    "        \"name\": \"convert_currency\",\n",
    "        \"description\": \"입력된 달러(USD)를 원화(KRW)로 변환합니다.\",\n",
    "        \"parameters\": {\n",
    "            \"type\": \"object\",\n",
    "            \"properties\": {\n",
    "                \"amount\": {\"type\": \"number\", \"description\": \"달러(USD) 금액\"}\n",
    "            },\n",
    "        \"required\": [\"amount\"],\n",
    "        \"additionalProperties\": False\n",
    "        },\n",
    "        \"strict\": True\n",
    "    },\n",
    "    {\n",
    "        \"type\": \"function\",\n",
    "        \"name\": \"calculate_bmi\",\n",
    "        \"description\": \"키(cm), 몸무게(kg) 정보를 받아서 BMI를 계산합니다.\",\n",
    "        \"parameters\": {\n",
    "            \"type\": \"object\",\n",
    "            \"properties\": {\n",
    "                \"height\": {\"type\": \"number\", \"description\": \"키(cm)\"},\n",
    "                \"weight\": {\"type\": \"number\", \"description\": \"몸무게(cm)\"}\n",
    "            },\n",
    "        \"required\": [\"height\", \"weight\"],\n",
    "        \"additionalProperties\": False\n",
    "        },\n",
    "        \"strict\": True\n",
    "    }\n",
    "]"
   ]
  },
  {
   "cell_type": "code",
   "execution_count": 10,
   "id": "b675c6b1",
   "metadata": {},
   "outputs": [
    {
     "name": "stdout",
     "output_type": "stream",
     "text": [
      "[ResponseFunctionToolCall(arguments='{\"birthdate\":\"1990-01-01\"}', call_id='call_jtunByq88eg6rL02FE7Asr77', name='calculate_age', type='function_call', id='fc_685cc6e11b9081999c2afde2e18478410d51e37a36df088c', status='completed'), ResponseFunctionToolCall(arguments='{\"amount\":100}', call_id='call_WubQGcuburuyCkAeIGT51qSP', name='convert_currency', type='function_call', id='fc_685cc6e14024819992ecddb89d96a11b0d51e37a36df088c', status='completed'), ResponseFunctionToolCall(arguments='{\"height\":190,\"weight\":50}', call_id='call_QzfcQv3rz4DNxgLwhzaI2Ad7', name='calculate_bmi', type='function_call', id='fc_685cc6e156208199b5b5a22ff3c04a8f0d51e37a36df088c', status='completed')]\n",
      "\n"
     ]
    }
   ],
   "source": [
    "input_messages = [\n",
    "    {\n",
    "        \"role\" : \"user\",\n",
    "        \"content\": \"내 생일은 1990-01-01 이고, 100 달러를 가지고 있는데 원화로 변환해줘, 그리고 내 키는 190cm 이고 몸무게는 50kg 이야 BMI 점수를 알려줘\"\n",
    "    }\n",
    "]\n",
    "\n",
    "response = client.responses.create(\n",
    "    model='gpt-4.1',\n",
    "    input=input_messages,\n",
    "    tools=fn_tools\n",
    ")\n",
    "\n",
    "print(response.output)\n",
    "print(response.output_text)"
   ]
  },
  {
   "cell_type": "code",
   "execution_count": 11,
   "id": "578e5abb",
   "metadata": {},
   "outputs": [
    {
     "name": "stdout",
     "output_type": "stream",
     "text": [
      "ResponseFunctionToolCall(arguments='{\"birthdate\":\"1990-01-01\"}', call_id='call_jtunByq88eg6rL02FE7Asr77', name='calculate_age', type='function_call', id='fc_685cc6e11b9081999c2afde2e18478410d51e37a36df088c', status='completed')\n",
      "ResponseFunctionToolCall(arguments='{\"amount\":100}', call_id='call_WubQGcuburuyCkAeIGT51qSP', name='convert_currency', type='function_call', id='fc_685cc6e14024819992ecddb89d96a11b0d51e37a36df088c', status='completed')\n",
      "ResponseFunctionToolCall(arguments='{\"height\":190,\"weight\":50}', call_id='call_QzfcQv3rz4DNxgLwhzaI2Ad7', name='calculate_bmi', type='function_call', id='fc_685cc6e156208199b5b5a22ff3c04a8f0d51e37a36df088c', status='completed')\n"
     ]
    }
   ],
   "source": [
    "print(response.output[0])\n",
    "print(response.output[1])\n",
    "print(response.output[2])"
   ]
  },
  {
   "cell_type": "code",
   "execution_count": 12,
   "id": "f8243154",
   "metadata": {},
   "outputs": [
    {
     "name": "stdout",
     "output_type": "stream",
     "text": [
      "호출 도구:calculate_age\n",
      "매개변수: {\"birthdate\":\"1990-01-01\"}\n",
      "호출 도구:convert_currency\n",
      "매개변수: {\"amount\":100}\n",
      "호출 도구:calculate_bmi\n",
      "매개변수: {\"height\":190,\"weight\":50}\n",
      "[{'role': 'user', 'content': '내 생일은 1990-01-01 이고, 100 달러를 가지고 있는데 원화로 변환해줘, 그리고 내 키는 190cm 이고 몸무게는 50kg 이야 BMI 점수를 알려줘'}, ResponseFunctionToolCall(arguments='{\"birthdate\":\"1990-01-01\"}', call_id='call_jtunByq88eg6rL02FE7Asr77', name='calculate_age', type='function_call', id='fc_685cc6e11b9081999c2afde2e18478410d51e37a36df088c', status='completed'), {'type': 'function_call_output', 'call_id': 'call_jtunByq88eg6rL02FE7Asr77', 'output': '35'}, ResponseFunctionToolCall(arguments='{\"amount\":100}', call_id='call_WubQGcuburuyCkAeIGT51qSP', name='convert_currency', type='function_call', id='fc_685cc6e14024819992ecddb89d96a11b0d51e37a36df088c', status='completed'), {'type': 'function_call_output', 'call_id': 'call_WubQGcuburuyCkAeIGT51qSP', 'output': '133000'}, ResponseFunctionToolCall(arguments='{\"height\":190,\"weight\":50}', call_id='call_QzfcQv3rz4DNxgLwhzaI2Ad7', name='calculate_bmi', type='function_call', id='fc_685cc6e156208199b5b5a22ff3c04a8f0d51e37a36df088c', status='completed'), {'type': 'function_call_output', 'call_id': 'call_QzfcQv3rz4DNxgLwhzaI2Ad7', 'output': '13.85'}]\n"
     ]
    }
   ],
   "source": [
    "import json\n",
    "\n",
    "if response.output :\n",
    "    for tool_call in response.output:\n",
    "        if tool_call.type == 'function_call':\n",
    "            if tool_call.name == 'calculate_age':\n",
    "                print(f'호출 도구:{tool_call.name}')\n",
    "                print(f'매개변수: {tool_call.arguments}')\n",
    "                # 매개변수 추출\n",
    "                args = json.loads(tool_call.arguments)\n",
    "                # 함수 실행 결과\n",
    "                result = calculate_age(args['birthdate'])\n",
    "                input_messages.append(tool_call)\n",
    "                input_messages.append({\n",
    "                    \"type\" : \"function_call_output\",\n",
    "                    \"call_id\": tool_call.call_id,\n",
    "                    \"output\": str(result)\n",
    "                })\n",
    "            \n",
    "            \n",
    "            if tool_call.name == 'convert_currency':\n",
    "                print(f'호출 도구:{tool_call.name}')\n",
    "                print(f'매개변수: {tool_call.arguments}')\n",
    "\n",
    "                # 매개변수 추출\n",
    "                args = json.loads(tool_call.arguments)\n",
    "\n",
    "                # 함수 실행 결과\n",
    "                result = convert_currency(args['amount'])\n",
    "\n",
    "                input_messages.append(tool_call)\n",
    "                input_messages.append({\n",
    "                    \"type\" : \"function_call_output\",\n",
    "                    \"call_id\": tool_call.call_id,\n",
    "                    \"output\": str(result)\n",
    "                })\n",
    "            \n",
    "            if tool_call.name == 'calculate_bmi':\n",
    "                print(f'호출 도구:{tool_call.name}')\n",
    "                print(f'매개변수: {tool_call.arguments}')\n",
    "\n",
    "                # 매개변수 추출\n",
    "                args = json.loads(tool_call.arguments)\n",
    "\n",
    "                # 함수 실행 결과\n",
    "                result = calculate_bmi(args['height'],args['weight'])\n",
    "\n",
    "                input_messages.append(tool_call)\n",
    "                input_messages.append({\n",
    "                    \"type\" : \"function_call_output\",\n",
    "                    \"call_id\": tool_call.call_id,\n",
    "                    \"output\": str(result)\n",
    "                })\n",
    "\n",
    "print(input_messages)"
   ]
  },
  {
   "cell_type": "code",
   "execution_count": 13,
   "id": "ad0868e7",
   "metadata": {},
   "outputs": [
    {
     "name": "stdout",
     "output_type": "stream",
     "text": [
      "요청하신 정보를 정리해드리면 다음과 같습니다:\n",
      "\n",
      "1. 만 나이: 35세\n",
      "2. 100달러를 원화로 환산: 약 133,000원\n",
      "3. BMI(190cm, 50kg): 13.85\n",
      "\n",
      "추가로 궁금한 점이 있으면 말씀해 주세요!\n"
     ]
    }
   ],
   "source": [
    "response_msg = client.responses.create(\n",
    "    model='gpt-4.1',\n",
    "    input=input_messages,\n",
    "    tools=fn_tools\n",
    ")\n",
    "\n",
    "print(response_msg.output_text)"
   ]
  },
  {
   "cell_type": "markdown",
   "id": "6031620e",
   "metadata": {},
   "source": [
    "### File Search"
   ]
  },
  {
   "cell_type": "code",
   "execution_count": null,
   "id": "9abc41bc",
   "metadata": {},
   "outputs": [],
   "source": [
    "import requests\n",
    "from io import BytesIO\n",
    "#from openai import OpenAI\n",
    "\n",
    "#client = OpenAI()\n",
    "\n",
    "def create_file(client, file_path):\n",
    "    if file_path.startswith(\"http://\") or file_path.startswith(\"https://\"):\n",
    "        # Download the file content from the URL\n",
    "        response = requests.get(file_path)\n",
    "        file_content = BytesIO(response.content)\n",
    "        file_name = file_path.split(\"/\")[-1]\n",
    "        file_tuple = (file_name, file_content)\n",
    "        result = client.files.create(\n",
    "            file=file_tuple,\n",
    "            purpose=\"assistants\"\n",
    "        )\n",
    "    # 핵심\n",
    "    else:\n",
    "        # Handle local file path\n",
    "        with open(file_path, \"rb\") as file_content:\n",
    "            result = client.files.create(\n",
    "                file=file_content,\n",
    "                purpose=\"assistants\"\n",
    "            )\n",
    "    print(result.id)\n",
    "    return result.id"
   ]
  },
  {
   "cell_type": "code",
   "execution_count": null,
   "id": "12c929eb",
   "metadata": {},
   "outputs": [
    {
     "name": "stdout",
     "output_type": "stream",
     "text": [
      "file-Sfx4Uq5MVbpT2UwYGDeEEL\n"
     ]
    }
   ],
   "source": [
    "# 등록, 아이디 값 반환\n",
    "file_id = create_file(client, './howto-sockets.pdf')"
   ]
  },
  {
   "cell_type": "code",
   "execution_count": null,
   "id": "0d1d18c3",
   "metadata": {},
   "outputs": [
    {
     "name": "stdout",
     "output_type": "stream",
     "text": [
      "vs_685cc777a6f08191b92de16acc99b6ae\n"
     ]
    }
   ],
   "source": [
    "# 스토어 생성\n",
    "vector_store = client.vector_stores.create(\n",
    "    name='knowledge_base'\n",
    ")\n",
    "\n",
    "print(vector_store.id)"
   ]
  },
  {
   "cell_type": "code",
   "execution_count": null,
   "id": "4faf0d4e",
   "metadata": {},
   "outputs": [
    {
     "data": {
      "text/plain": [
       "VectorStoreFile(id='file-Sfx4Uq5MVbpT2UwYGDeEEL', created_at=1750910841, last_error=None, object='vector_store.file', status='in_progress', usage_bytes=0, vector_store_id='vs_685cc777a6f08191b92de16acc99b6ae', attributes={}, chunking_strategy=StaticFileChunkingStrategyObject(static=StaticFileChunkingStrategy(chunk_overlap_tokens=400, max_chunk_size_tokens=800), type='static'))"
      ]
     },
     "execution_count": 19,
     "metadata": {},
     "output_type": "execute_result"
    }
   ],
   "source": [
    "# 새로운 파일 등록\n",
    "client.vector_stores.files.create(\n",
    "    vector_store_id=vector_store.id,\n",
    "    file_id=file_id\n",
    ")"
   ]
  },
  {
   "cell_type": "code",
   "execution_count": null,
   "id": "bb0d84ed",
   "metadata": {},
   "outputs": [
    {
     "name": "stdout",
     "output_type": "stream",
     "text": [
      "SyncCursorPage[VectorStoreFile](data=[VectorStoreFile(id='file-Sfx4Uq5MVbpT2UwYGDeEEL', created_at=1750910841, last_error=None, object='vector_store.file', status='completed', usage_bytes=29112, vector_store_id='vs_685cc777a6f08191b92de16acc99b6ae', attributes={}, chunking_strategy=StaticFileChunkingStrategyObject(static=StaticFileChunkingStrategy(chunk_overlap_tokens=400, max_chunk_size_tokens=800), type='static'))], has_more=False, object='list', first_id='file-Sfx4Uq5MVbpT2UwYGDeEEL', last_id='file-Sfx4Uq5MVbpT2UwYGDeEEL')\n"
     ]
    }
   ],
   "source": [
    "# 어떤 파일이 있는지 확인\n",
    "result_list = client.vector_stores.files.list(\n",
    "    vector_store_id=vector_store.id\n",
    ")\n",
    "\n",
    "print(result_list)"
   ]
  },
  {
   "cell_type": "code",
   "execution_count": 24,
   "id": "33ac9089",
   "metadata": {},
   "outputs": [
    {
     "name": "stdout",
     "output_type": "stream",
     "text": [
      "Response(id='resp_685cd0c4931c819985ee777f7ddfbaba0dd19cdc18a9527a', created_at=1750913220.0, error=None, incomplete_details=None, instructions=None, metadata={}, model='gpt-4.1-2025-04-14', object='response', output=[ResponseOutputMessage(id='msg_685cd0c51754819984a88848523d006c0dd19cdc18a9527a', content=[ResponseOutputText(annotations=[], text=\"파이썬에서 소켓(socket)을 만드는 기본적인 방법은 다음과 같습니다.\\n\\n### 1. 소켓 모듈 임포트\\n```python\\nimport socket\\n```\\n\\n### 2. 소켓 객체 생성\\n```python\\ns = socket.socket(socket.AF_INET, socket.SOCK_STREAM)\\n```\\n- `socket.AF_INET`: IPv4 사용  \\n- `socket.SOCK_STREAM`: TCP 소켓(스트림 소켓)\\n\\n### 3. 서버(예시)\\n#### 바인드(bind) & 리슨(listen)\\n```python\\ns.bind(('127.0.0.1', 12345))  # IP 주소와 포트 바인드\\ns.listen(1)                   # 최대 1개의 클라이언트 대기\\n```\\n\\n#### 클라이언트 연결 수락 & 데이터 송수신\\n```python\\nconn, addr = s.accept()       # 연결 수락\\ndata = conn.recv(1024)        # 데이터 수신 (1024바이트)\\nconn.sendall(b'Hello, client')# 데이터 전송\\nconn.close()                  # 연결 종료\\n```\\n\\n### 4. 클라이언트(예시)\\n```python\\ns.connect(('127.0.0.1', 12345)) # 서버에 연결\\ns.sendall(b'Hello, server')     # 데이터 전송\\ndata = s.recv(1024)             # 데이터 수신\\ns.close()                       # 연결 종료\\n```\\n\\n---\\n\\n요약하자면,  \\n1. `socket.socket()`으로 소켓 객체를 만든다.  \\n2. 서버라면 `bind()`, `listen()`, `accept()` 과정을 거친다.  \\n3. 클라이언트라면 `connect()`로 서버에 연결한다.  \\n4. `send()`와 `recv()`를 이용해서 데이터 주고받는다.  \\n5. 작업이 끝나면 `close()`로 소켓을 닫는다.\\n\\n더 궁금한 점이 있으면 말씀해 주세요!\", type='output_text', logprobs=None)], role='assistant', status='completed', type='message')], parallel_tool_calls=True, temperature=1.0, tool_choice='auto', tools=[FileSearchTool(type='file_search', vector_store_ids=['vs_685cc777a6f08191b92de16acc99b6ae'], filters=None, max_num_results=20, ranking_options=RankingOptions(ranker='auto', score_threshold=0.0))], top_p=1.0, background=False, max_output_tokens=None, previous_response_id=None, prompt=None, reasoning=Reasoning(effort=None, generate_summary=None, summary=None), service_tier='default', status='completed', text=ResponseTextConfig(format=ResponseFormatText(type='text')), truncation='disabled', usage=ResponseUsage(input_tokens=813, input_tokens_details=InputTokensDetails(cached_tokens=0), output_tokens=424, output_tokens_details=OutputTokensDetails(reasoning_tokens=0), total_tokens=1237), user=None, max_tool_calls=None, store=True)\n"
     ]
    }
   ],
   "source": [
    "response = client.responses.create(\n",
    "    model='gpt-4.1',\n",
    "    input='파이썬 코드로 소켓 만드는 방법을 간단하게 설명해줘.',\n",
    "    tools=[{\n",
    "        'type' : 'file_search',\n",
    "        'vector_store_ids' : [vector_store.id]\n",
    "    }],\n",
    "    tool_choice='auto'\n",
    ")\n",
    "\n",
    "print(response)"
   ]
  },
  {
   "cell_type": "code",
   "execution_count": 22,
   "id": "243b2a02",
   "metadata": {},
   "outputs": [
    {
     "name": "stdout",
     "output_type": "stream",
     "text": [
      "{'id': 'resp_685cd035497881998ad324e88ae849da06769eb1f7823ac2', 'created_at': 1750913077.0, 'error': None, 'incomplete_details': None, 'instructions': None, 'metadata': {}, 'model': 'gpt-4.1-2025-04-14', 'object': 'response', 'output': [ResponseOutputMessage(id='msg_685cd035d7508199b60f989deda1ad2806769eb1f7823ac2', content=[ResponseOutputText(annotations=[], text=\"파이썬에서 소켓(socket)을 만드는 방법을 간단히 설명하겠습니다.\\n\\n1. 소켓 모듈 불러오기  \\n먼저, 파이썬의 소켓 프로그래밍을 위해 socket 모듈을 import 해야 합니다.\\n\\n```python\\nimport socket\\n```\\n\\n2. 소켓 객체 생성  \\nsocket.socket()을 사용해서 소켓 객체를 만듭니다.  \\n예를 들어, IPv4와 TCP를 사용하는 경우:\\n\\n```python\\ns = socket.socket(socket.AF_INET, socket.SOCK_STREAM)\\n```\\n- `AF_INET` : IPv4 사용\\n- `SOCK_STREAM` : TCP 사용\\n\\n3. 서버 소켓 예시  \\n간단한 서버 소켓 코드 예시입니다.\\n\\n```python\\nimport socket\\n\\n# 1. 소켓 생성\\nserver_socket = socket.socket(socket.AF_INET, socket.SOCK_STREAM)\\n# 2. 주소와 포트 바인딩\\nserver_socket.bind(('localhost', 9999))\\n# 3. 클라이언트 접속 대기\\nserver_socket.listen()\\nprint('서버가 시작되었습니다.')\\n\\n# 4. 클라이언트 연결 수락\\nclient_socket, addr = server_socket.accept()\\nprint('연결된 클라이언트:', addr)\\n\\n# 5. 데이터 송수신\\ndata = client_socket.recv(1024)\\nprint('받은 데이터:', data.decode())\\n\\nclient_socket.sendall('Hello Client!'.encode())\\n\\n# 6. 소켓 종료\\nclient_socket.close()\\nserver_socket.close()\\n```\\n\\n4. 클라이언트 소켓 예시  \\n간단한 클라이언트 코드 예시입니다.\\n\\n```python\\nimport socket\\n\\n# 1. 소켓 생성\\nclient_socket = socket.socket(socket.AF_INET, socket.SOCK_STREAM)\\n# 2. 서버에 연결\\nclient_socket.connect(('localhost', 9999))\\n# 3. 데이터 송수신\\nclient_socket.sendall('Hello Server!'.encode())\\n\\ndata = client_socket.recv(1024)\\nprint('받은 데이터:', data.decode())\\n# 4. 소켓 종료\\nclient_socket.close()\\n```\\n\\n이렇게 소켓을 생성하고 사용할 수 있습니다!  \\n궁금한 점이 있으면 추가로 알려주세요.\", type='output_text', logprobs=None)], role='assistant', status='completed', type='message')], 'parallel_tool_calls': True, 'temperature': 1.0, 'tool_choice': 'auto', 'tools': [FileSearchTool(type='file_search', vector_store_ids=['vs_685cc777a6f08191b92de16acc99b6ae'], filters=None, max_num_results=20, ranking_options=RankingOptions(ranker='auto', score_threshold=0.0))], 'top_p': 1.0, 'background': False, 'max_output_tokens': None, 'previous_response_id': None, 'prompt': None, 'reasoning': Reasoning(effort=None, generate_summary=None, summary=None), 'service_tier': 'default', 'status': 'completed', 'text': ResponseTextConfig(format=ResponseFormatText(type='text')), 'truncation': 'disabled', 'usage': ResponseUsage(input_tokens=813, input_tokens_details=InputTokensDetails(cached_tokens=0), output_tokens=465, output_tokens_details=OutputTokensDetails(reasoning_tokens=0), total_tokens=1278), 'user': None, 'max_tool_calls': None, 'store': True}\n"
     ]
    }
   ],
   "source": [
    "print(dict(response))"
   ]
  },
  {
   "cell_type": "code",
   "execution_count": 25,
   "id": "2d5c43f9",
   "metadata": {},
   "outputs": [
    {
     "name": "stdout",
     "output_type": "stream",
     "text": [
      "Collecting streamlitNote: you may need to restart the kernel to use updated packages.\n",
      "\n",
      "  Downloading streamlit-1.46.0-py3-none-any.whl.metadata (9.0 kB)\n",
      "Collecting altair<6,>=4.0 (from streamlit)\n",
      "  Downloading altair-5.5.0-py3-none-any.whl.metadata (11 kB)\n",
      "Collecting blinker<2,>=1.5.0 (from streamlit)\n",
      "  Downloading blinker-1.9.0-py3-none-any.whl.metadata (1.6 kB)\n",
      "Collecting cachetools<7,>=4.0 (from streamlit)\n",
      "  Downloading cachetools-6.1.0-py3-none-any.whl.metadata (5.4 kB)\n",
      "Collecting click<9,>=7.0 (from streamlit)\n",
      "  Downloading click-8.1.8-py3-none-any.whl.metadata (2.3 kB)\n",
      "Requirement already satisfied: numpy<3,>=1.23 in c:\\project\\tensor_proj\\.venv\\lib\\site-packages (from streamlit) (2.0.2)\n",
      "Requirement already satisfied: packaging<26,>=20 in c:\\project\\tensor_proj\\.venv\\lib\\site-packages (from streamlit) (25.0)\n",
      "Requirement already satisfied: pandas<3,>=1.4.0 in c:\\project\\tensor_proj\\.venv\\lib\\site-packages (from streamlit) (2.3.0)\n",
      "Requirement already satisfied: pillow<12,>=7.1.0 in c:\\project\\tensor_proj\\.venv\\lib\\site-packages (from streamlit) (11.2.1)\n",
      "Requirement already satisfied: protobuf<7,>=3.20 in c:\\project\\tensor_proj\\.venv\\lib\\site-packages (from streamlit) (5.29.5)\n",
      "Collecting pyarrow>=7.0 (from streamlit)\n",
      "  Downloading pyarrow-20.0.0-cp39-cp39-win_amd64.whl.metadata (3.4 kB)\n",
      "Requirement already satisfied: requests<3,>=2.27 in c:\\project\\tensor_proj\\.venv\\lib\\site-packages (from streamlit) (2.32.4)\n",
      "Collecting tenacity<10,>=8.1.0 (from streamlit)\n",
      "  Downloading tenacity-9.1.2-py3-none-any.whl.metadata (1.2 kB)\n",
      "Collecting toml<2,>=0.10.1 (from streamlit)\n",
      "  Downloading toml-0.10.2-py2.py3-none-any.whl.metadata (7.1 kB)\n",
      "Requirement already satisfied: typing-extensions<5,>=4.4.0 in c:\\project\\tensor_proj\\.venv\\lib\\site-packages (from streamlit) (4.14.0)\n",
      "Collecting watchdog<7,>=2.1.5 (from streamlit)\n",
      "  Downloading watchdog-6.0.0-py3-none-win_amd64.whl.metadata (44 kB)\n",
      "Collecting gitpython!=3.1.19,<4,>=3.0.7 (from streamlit)\n",
      "  Downloading GitPython-3.1.44-py3-none-any.whl.metadata (13 kB)\n",
      "Collecting pydeck<1,>=0.8.0b4 (from streamlit)\n",
      "  Downloading pydeck-0.9.1-py2.py3-none-any.whl.metadata (4.1 kB)\n",
      "Requirement already satisfied: tornado!=6.5.0,<7,>=6.0.3 in c:\\project\\tensor_proj\\.venv\\lib\\site-packages (from streamlit) (6.5.1)\n",
      "Collecting jinja2 (from altair<6,>=4.0->streamlit)\n",
      "  Downloading jinja2-3.1.6-py3-none-any.whl.metadata (2.9 kB)\n",
      "Collecting jsonschema>=3.0 (from altair<6,>=4.0->streamlit)\n",
      "  Downloading jsonschema-4.24.0-py3-none-any.whl.metadata (7.8 kB)\n",
      "Collecting narwhals>=1.14.2 (from altair<6,>=4.0->streamlit)\n",
      "  Downloading narwhals-1.44.0-py3-none-any.whl.metadata (11 kB)\n",
      "Requirement already satisfied: colorama in c:\\project\\tensor_proj\\.venv\\lib\\site-packages (from click<9,>=7.0->streamlit) (0.4.6)\n",
      "Collecting gitdb<5,>=4.0.1 (from gitpython!=3.1.19,<4,>=3.0.7->streamlit)\n",
      "  Downloading gitdb-4.0.12-py3-none-any.whl.metadata (1.2 kB)\n",
      "Collecting smmap<6,>=3.0.1 (from gitdb<5,>=4.0.1->gitpython!=3.1.19,<4,>=3.0.7->streamlit)\n",
      "  Downloading smmap-5.0.2-py3-none-any.whl.metadata (4.3 kB)\n",
      "Requirement already satisfied: python-dateutil>=2.8.2 in c:\\project\\tensor_proj\\.venv\\lib\\site-packages (from pandas<3,>=1.4.0->streamlit) (2.9.0.post0)\n",
      "Requirement already satisfied: pytz>=2020.1 in c:\\project\\tensor_proj\\.venv\\lib\\site-packages (from pandas<3,>=1.4.0->streamlit) (2025.2)\n",
      "Requirement already satisfied: tzdata>=2022.7 in c:\\project\\tensor_proj\\.venv\\lib\\site-packages (from pandas<3,>=1.4.0->streamlit) (2025.2)\n",
      "Requirement already satisfied: charset_normalizer<4,>=2 in c:\\project\\tensor_proj\\.venv\\lib\\site-packages (from requests<3,>=2.27->streamlit) (3.4.2)\n",
      "Requirement already satisfied: idna<4,>=2.5 in c:\\project\\tensor_proj\\.venv\\lib\\site-packages (from requests<3,>=2.27->streamlit) (3.10)\n",
      "Requirement already satisfied: urllib3<3,>=1.21.1 in c:\\project\\tensor_proj\\.venv\\lib\\site-packages (from requests<3,>=2.27->streamlit) (2.5.0)\n",
      "Requirement already satisfied: certifi>=2017.4.17 in c:\\project\\tensor_proj\\.venv\\lib\\site-packages (from requests<3,>=2.27->streamlit) (2025.6.15)\n",
      "Requirement already satisfied: MarkupSafe>=2.0 in c:\\project\\tensor_proj\\.venv\\lib\\site-packages (from jinja2->altair<6,>=4.0->streamlit) (3.0.2)\n",
      "Collecting attrs>=22.2.0 (from jsonschema>=3.0->altair<6,>=4.0->streamlit)\n",
      "  Using cached attrs-25.3.0-py3-none-any.whl.metadata (10 kB)\n",
      "Collecting jsonschema-specifications>=2023.03.6 (from jsonschema>=3.0->altair<6,>=4.0->streamlit)\n",
      "  Downloading jsonschema_specifications-2025.4.1-py3-none-any.whl.metadata (2.9 kB)\n",
      "Collecting referencing>=0.28.4 (from jsonschema>=3.0->altair<6,>=4.0->streamlit)\n",
      "  Downloading referencing-0.36.2-py3-none-any.whl.metadata (2.8 kB)\n",
      "Collecting rpds-py>=0.7.1 (from jsonschema>=3.0->altair<6,>=4.0->streamlit)\n",
      "  Downloading rpds_py-0.25.1-cp39-cp39-win_amd64.whl.metadata (4.2 kB)\n",
      "Requirement already satisfied: six>=1.5 in c:\\project\\tensor_proj\\.venv\\lib\\site-packages (from python-dateutil>=2.8.2->pandas<3,>=1.4.0->streamlit) (1.17.0)\n",
      "Downloading streamlit-1.46.0-py3-none-any.whl (10.1 MB)\n",
      "   ---------------------------------------- 0.0/10.1 MB ? eta -:--:--\n",
      "   -------- ------------------------------- 2.1/10.1 MB 11.8 MB/s eta 0:00:01\n",
      "   ------------------ --------------------- 4.7/10.1 MB 11.4 MB/s eta 0:00:01\n",
      "   ----------------------------- ---------- 7.3/10.1 MB 11.9 MB/s eta 0:00:01\n",
      "   -------------------------------------- - 9.7/10.1 MB 11.8 MB/s eta 0:00:01\n",
      "   ---------------------------------------- 10.1/10.1 MB 11.4 MB/s eta 0:00:00\n",
      "Downloading altair-5.5.0-py3-none-any.whl (731 kB)\n",
      "   ---------------------------------------- 0.0/731.2 kB ? eta -:--:--\n",
      "   ---------------------------------------- 731.2/731.2 kB 5.9 MB/s eta 0:00:00\n",
      "Downloading blinker-1.9.0-py3-none-any.whl (8.5 kB)\n",
      "Downloading cachetools-6.1.0-py3-none-any.whl (11 kB)\n",
      "Downloading click-8.1.8-py3-none-any.whl (98 kB)\n",
      "Downloading GitPython-3.1.44-py3-none-any.whl (207 kB)\n",
      "Downloading gitdb-4.0.12-py3-none-any.whl (62 kB)\n",
      "Downloading pydeck-0.9.1-py2.py3-none-any.whl (6.9 MB)\n",
      "   ---------------------------------------- 0.0/6.9 MB ? eta -:--:--\n",
      "   ------------- -------------------------- 2.4/6.9 MB 12.2 MB/s eta 0:00:01\n",
      "   --------------------------- ------------ 4.7/6.9 MB 11.9 MB/s eta 0:00:01\n",
      "   ---------------------------------------  6.8/6.9 MB 12.0 MB/s eta 0:00:01\n",
      "   ---------------------------------------- 6.9/6.9 MB 11.2 MB/s eta 0:00:00\n",
      "Downloading smmap-5.0.2-py3-none-any.whl (24 kB)\n",
      "Downloading tenacity-9.1.2-py3-none-any.whl (28 kB)\n",
      "Downloading toml-0.10.2-py2.py3-none-any.whl (16 kB)\n",
      "Downloading watchdog-6.0.0-py3-none-win_amd64.whl (79 kB)\n",
      "Downloading jinja2-3.1.6-py3-none-any.whl (134 kB)\n",
      "Downloading jsonschema-4.24.0-py3-none-any.whl (88 kB)\n",
      "Using cached attrs-25.3.0-py3-none-any.whl (63 kB)\n",
      "Downloading jsonschema_specifications-2025.4.1-py3-none-any.whl (18 kB)\n",
      "Downloading narwhals-1.44.0-py3-none-any.whl (365 kB)\n",
      "Downloading pyarrow-20.0.0-cp39-cp39-win_amd64.whl (25.8 MB)\n",
      "   ---------------------------------------- 0.0/25.8 MB ? eta -:--:--\n",
      "   --- ------------------------------------ 2.1/25.8 MB 10.7 MB/s eta 0:00:03\n",
      "   ------- -------------------------------- 4.7/25.8 MB 11.4 MB/s eta 0:00:02\n",
      "   ----------- ---------------------------- 7.3/25.8 MB 11.9 MB/s eta 0:00:02\n",
      "   --------------- ------------------------ 9.7/25.8 MB 11.8 MB/s eta 0:00:02\n",
      "   ------------------ --------------------- 12.1/25.8 MB 11.6 MB/s eta 0:00:02\n",
      "   ---------------------- ----------------- 14.4/25.8 MB 11.8 MB/s eta 0:00:01\n",
      "   -------------------------- ------------- 17.0/25.8 MB 11.8 MB/s eta 0:00:01\n",
      "   ------------------------------ --------- 19.4/25.8 MB 11.8 MB/s eta 0:00:01\n",
      "   ---------------------------------- ----- 22.0/25.8 MB 11.8 MB/s eta 0:00:01\n",
      "   ------------------------------------- -- 24.4/25.8 MB 11.8 MB/s eta 0:00:01\n",
      "   ---------------------------------------- 25.8/25.8 MB 11.3 MB/s eta 0:00:00\n",
      "Downloading referencing-0.36.2-py3-none-any.whl (26 kB)\n",
      "Downloading rpds_py-0.25.1-cp39-cp39-win_amd64.whl (231 kB)\n",
      "Installing collected packages: watchdog, toml, tenacity, smmap, rpds-py, pyarrow, narwhals, jinja2, click, cachetools, blinker, attrs, referencing, pydeck, gitdb, jsonschema-specifications, gitpython, jsonschema, altair, streamlit\n",
      "\n",
      "   ----------------------------------------  0/20 [watchdog]\n",
      "   ----------------------------------------  0/20 [watchdog]\n",
      "   ----------------------------------------  0/20 [watchdog]\n",
      "   ----------------------------------------  0/20 [watchdog]\n",
      "   ----------------------------------------  0/20 [watchdog]\n",
      "   -- -------------------------------------  1/20 [toml]\n",
      "   ---- -----------------------------------  2/20 [tenacity]\n",
      "   ---- -----------------------------------  2/20 [tenacity]\n",
      "   ------ ---------------------------------  3/20 [smmap]\n",
      "   -------- -------------------------------  4/20 [rpds-py]\n",
      "   ---------- -----------------------------  5/20 [pyarrow]\n",
      "   ---------- -----------------------------  5/20 [pyarrow]\n",
      "   ---------- -----------------------------  5/20 [pyarrow]\n",
      "   ---------- -----------------------------  5/20 [pyarrow]\n",
      "   ---------- -----------------------------  5/20 [pyarrow]\n",
      "   ---------- -----------------------------  5/20 [pyarrow]\n",
      "   ---------- -----------------------------  5/20 [pyarrow]\n",
      "   ---------- -----------------------------  5/20 [pyarrow]\n",
      "   ---------- -----------------------------  5/20 [pyarrow]\n",
      "   ---------- -----------------------------  5/20 [pyarrow]\n",
      "   ---------- -----------------------------  5/20 [pyarrow]\n",
      "   ---------- -----------------------------  5/20 [pyarrow]\n",
      "   ---------- -----------------------------  5/20 [pyarrow]\n",
      "   ---------- -----------------------------  5/20 [pyarrow]\n",
      "   ---------- -----------------------------  5/20 [pyarrow]\n",
      "   ---------- -----------------------------  5/20 [pyarrow]\n",
      "   ---------- -----------------------------  5/20 [pyarrow]\n",
      "   ---------- -----------------------------  5/20 [pyarrow]\n",
      "   ---------- -----------------------------  5/20 [pyarrow]\n",
      "   ---------- -----------------------------  5/20 [pyarrow]\n",
      "   ---------- -----------------------------  5/20 [pyarrow]\n",
      "   ---------- -----------------------------  5/20 [pyarrow]\n",
      "   ---------- -----------------------------  5/20 [pyarrow]\n",
      "   ------------ ---------------------------  6/20 [narwhals]\n",
      "   ------------ ---------------------------  6/20 [narwhals]\n",
      "   ------------ ---------------------------  6/20 [narwhals]\n",
      "   ------------ ---------------------------  6/20 [narwhals]\n",
      "   ------------ ---------------------------  6/20 [narwhals]\n",
      "   ------------ ---------------------------  6/20 [narwhals]\n",
      "   ------------ ---------------------------  6/20 [narwhals]\n",
      "   ------------ ---------------------------  6/20 [narwhals]\n",
      "   ------------ ---------------------------  6/20 [narwhals]\n",
      "   ------------ ---------------------------  6/20 [narwhals]\n",
      "   ------------ ---------------------------  6/20 [narwhals]\n",
      "   ------------ ---------------------------  6/20 [narwhals]\n",
      "   ------------ ---------------------------  6/20 [narwhals]\n",
      "   ------------ ---------------------------  6/20 [narwhals]\n",
      "   ------------ ---------------------------  6/20 [narwhals]\n",
      "   ------------ ---------------------------  6/20 [narwhals]\n",
      "   ------------ ---------------------------  6/20 [narwhals]\n",
      "   ------------ ---------------------------  6/20 [narwhals]\n",
      "   ------------ ---------------------------  6/20 [narwhals]\n",
      "   ------------ ---------------------------  6/20 [narwhals]\n",
      "   ------------ ---------------------------  6/20 [narwhals]\n",
      "   ------------ ---------------------------  6/20 [narwhals]\n",
      "   ------------ ---------------------------  6/20 [narwhals]\n",
      "   ------------ ---------------------------  6/20 [narwhals]\n",
      "   -------------- -------------------------  7/20 [jinja2]\n",
      "   -------------- -------------------------  7/20 [jinja2]\n",
      "   -------------- -------------------------  7/20 [jinja2]\n",
      "   -------------- -------------------------  7/20 [jinja2]\n",
      "   -------------- -------------------------  7/20 [jinja2]\n",
      "   ---------------- -----------------------  8/20 [click]\n",
      "   ---------------- -----------------------  8/20 [click]\n",
      "   ---------------- -----------------------  8/20 [click]\n",
      "   ------------------ ---------------------  9/20 [cachetools]\n",
      "   -------------------- ------------------- 10/20 [blinker]\n",
      "   ---------------------- ----------------- 11/20 [attrs]\n",
      "   ---------------------- ----------------- 11/20 [attrs]\n",
      "   ---------------------- ----------------- 11/20 [attrs]\n",
      "   ------------------------ --------------- 12/20 [referencing]\n",
      "   ------------------------ --------------- 12/20 [referencing]\n",
      "   -------------------------- ------------- 13/20 [pydeck]\n",
      "   -------------------------- ------------- 13/20 [pydeck]\n",
      "   -------------------------- ------------- 13/20 [pydeck]\n",
      "   -------------------------- ------------- 13/20 [pydeck]\n",
      "   -------------------------- ------------- 13/20 [pydeck]\n",
      "   -------------------------- ------------- 13/20 [pydeck]\n",
      "   ---------------------------- ----------- 14/20 [gitdb]\n",
      "   ---------------------------- ----------- 14/20 [gitdb]\n",
      "   ---------------------------- ----------- 14/20 [gitdb]\n",
      "   ---------------------------- ----------- 14/20 [gitdb]\n",
      "   -------------------------------- ------- 16/20 [gitpython]\n",
      "   -------------------------------- ------- 16/20 [gitpython]\n",
      "   -------------------------------- ------- 16/20 [gitpython]\n",
      "   -------------------------------- ------- 16/20 [gitpython]\n",
      "   -------------------------------- ------- 16/20 [gitpython]\n",
      "   -------------------------------- ------- 16/20 [gitpython]\n",
      "   -------------------------------- ------- 16/20 [gitpython]\n",
      "   -------------------------------- ------- 16/20 [gitpython]\n",
      "   ---------------------------------- ----- 17/20 [jsonschema]\n",
      "   ---------------------------------- ----- 17/20 [jsonschema]\n",
      "   ---------------------------------- ----- 17/20 [jsonschema]\n",
      "   ---------------------------------- ----- 17/20 [jsonschema]\n",
      "   ---------------------------------- ----- 17/20 [jsonschema]\n",
      "   ---------------------------------- ----- 17/20 [jsonschema]\n",
      "   ---------------------------------- ----- 17/20 [jsonschema]\n",
      "   ------------------------------------ --- 18/20 [altair]\n",
      "   ------------------------------------ --- 18/20 [altair]\n",
      "   ------------------------------------ --- 18/20 [altair]\n",
      "   ------------------------------------ --- 18/20 [altair]\n",
      "   ------------------------------------ --- 18/20 [altair]\n",
      "   ------------------------------------ --- 18/20 [altair]\n",
      "   ------------------------------------ --- 18/20 [altair]\n",
      "   ------------------------------------ --- 18/20 [altair]\n",
      "   ------------------------------------ --- 18/20 [altair]\n",
      "   ------------------------------------ --- 18/20 [altair]\n",
      "   -------------------------------------- - 19/20 [streamlit]\n",
      "   -------------------------------------- - 19/20 [streamlit]\n",
      "   -------------------------------------- - 19/20 [streamlit]\n",
      "   -------------------------------------- - 19/20 [streamlit]\n",
      "   -------------------------------------- - 19/20 [streamlit]\n",
      "   -------------------------------------- - 19/20 [streamlit]\n",
      "   -------------------------------------- - 19/20 [streamlit]\n",
      "   -------------------------------------- - 19/20 [streamlit]\n",
      "   -------------------------------------- - 19/20 [streamlit]\n",
      "   -------------------------------------- - 19/20 [streamlit]\n",
      "   -------------------------------------- - 19/20 [streamlit]\n",
      "   -------------------------------------- - 19/20 [streamlit]\n",
      "   -------------------------------------- - 19/20 [streamlit]\n",
      "   -------------------------------------- - 19/20 [streamlit]\n",
      "   -------------------------------------- - 19/20 [streamlit]\n",
      "   -------------------------------------- - 19/20 [streamlit]\n",
      "   -------------------------------------- - 19/20 [streamlit]\n",
      "   -------------------------------------- - 19/20 [streamlit]\n",
      "   -------------------------------------- - 19/20 [streamlit]\n",
      "   -------------------------------------- - 19/20 [streamlit]\n",
      "   -------------------------------------- - 19/20 [streamlit]\n",
      "   -------------------------------------- - 19/20 [streamlit]\n",
      "   -------------------------------------- - 19/20 [streamlit]\n",
      "   -------------------------------------- - 19/20 [streamlit]\n",
      "   -------------------------------------- - 19/20 [streamlit]\n",
      "   -------------------------------------- - 19/20 [streamlit]\n",
      "   -------------------------------------- - 19/20 [streamlit]\n",
      "   -------------------------------------- - 19/20 [streamlit]\n",
      "   -------------------------------------- - 19/20 [streamlit]\n",
      "   -------------------------------------- - 19/20 [streamlit]\n",
      "   -------------------------------------- - 19/20 [streamlit]\n",
      "   -------------------------------------- - 19/20 [streamlit]\n",
      "   -------------------------------------- - 19/20 [streamlit]\n",
      "   -------------------------------------- - 19/20 [streamlit]\n",
      "   -------------------------------------- - 19/20 [streamlit]\n",
      "   -------------------------------------- - 19/20 [streamlit]\n",
      "   -------------------------------------- - 19/20 [streamlit]\n",
      "   -------------------------------------- - 19/20 [streamlit]\n",
      "   -------------------------------------- - 19/20 [streamlit]\n",
      "   -------------------------------------- - 19/20 [streamlit]\n",
      "   -------------------------------------- - 19/20 [streamlit]\n",
      "   -------------------------------------- - 19/20 [streamlit]\n",
      "   -------------------------------------- - 19/20 [streamlit]\n",
      "   -------------------------------------- - 19/20 [streamlit]\n",
      "   -------------------------------------- - 19/20 [streamlit]\n",
      "   -------------------------------------- - 19/20 [streamlit]\n",
      "   -------------------------------------- - 19/20 [streamlit]\n",
      "   -------------------------------------- - 19/20 [streamlit]\n",
      "   -------------------------------------- - 19/20 [streamlit]\n",
      "   -------------------------------------- - 19/20 [streamlit]\n",
      "   -------------------------------------- - 19/20 [streamlit]\n",
      "   -------------------------------------- - 19/20 [streamlit]\n",
      "   -------------------------------------- - 19/20 [streamlit]\n",
      "   -------------------------------------- - 19/20 [streamlit]\n",
      "   -------------------------------------- - 19/20 [streamlit]\n",
      "   -------------------------------------- - 19/20 [streamlit]\n",
      "   -------------------------------------- - 19/20 [streamlit]\n",
      "   ---------------------------------------- 20/20 [streamlit]\n",
      "\n",
      "Successfully installed altair-5.5.0 attrs-25.3.0 blinker-1.9.0 cachetools-6.1.0 click-8.1.8 gitdb-4.0.12 gitpython-3.1.44 jinja2-3.1.6 jsonschema-4.24.0 jsonschema-specifications-2025.4.1 narwhals-1.44.0 pyarrow-20.0.0 pydeck-0.9.1 referencing-0.36.2 rpds-py-0.25.1 smmap-5.0.2 streamlit-1.46.0 tenacity-9.1.2 toml-0.10.2 watchdog-6.0.0\n"
     ]
    }
   ],
   "source": [
    "pip install streamlit"
   ]
  }
 ],
 "metadata": {
  "kernelspec": {
   "display_name": ".venv",
   "language": "python",
   "name": "python3"
  },
  "language_info": {
   "codemirror_mode": {
    "name": "ipython",
    "version": 3
   },
   "file_extension": ".py",
   "mimetype": "text/x-python",
   "name": "python",
   "nbconvert_exporter": "python",
   "pygments_lexer": "ipython3",
   "version": "3.9.13"
  }
 },
 "nbformat": 4,
 "nbformat_minor": 5
}

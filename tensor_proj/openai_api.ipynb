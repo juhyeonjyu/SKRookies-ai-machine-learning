{
 "cells": [
  {
   "cell_type": "code",
   "execution_count": null,
   "id": "876eee3a",
   "metadata": {},
   "outputs": [
    {
     "name": "stdout",
     "output_type": "stream",
     "text": [
      "Collecting python-dotenvNote: you may need to restart the kernel to use updated packages.\n",
      "\n",
      "  Downloading python_dotenv-1.1.1-py3-none-any.whl.metadata (24 kB)\n",
      "Downloading python_dotenv-1.1.1-py3-none-any.whl (20 kB)\n",
      "Installing collected packages: python-dotenv\n",
      "Successfully installed python-dotenv-1.1.1\n"
     ]
    }
   ],
   "source": [
    "# pip install python-dotenv   # 확장자가 env인 파일 읽어서 처리"
   ]
  },
  {
   "cell_type": "code",
   "execution_count": null,
   "id": "e7ac0bd0",
   "metadata": {},
   "outputs": [],
   "source": [
    "from dotenv import load_dotenv\n",
    "import os\n",
    "\n",
    "load_dotenv()\n",
    "\n",
    "OPENAI_API_KEY = os.getenv('OPENAI_API_KEY')    # .env 파일에서 OPENAI_API_KEY 환경변수 읽기\n",
    "\n",
    "# print('Key : ', OPENAI_API_KEY)\n",
    "# API 키를 절대 Public에 노출하지 말 것"
   ]
  },
  {
   "cell_type": "code",
   "execution_count": null,
   "id": "d89777a5",
   "metadata": {},
   "outputs": [],
   "source": [
    "# pip install openai"
   ]
  },
  {
   "cell_type": "code",
   "execution_count": 30,
   "id": "b67c9c9c",
   "metadata": {},
   "outputs": [],
   "source": [
    "from openai import OpenAI\n",
    "\n",
    "client = OpenAI(api_key=OPENAI_API_KEY)\n",
    "\n",
    "response = client.responses.create(\n",
    "    model = 'gpt-4.1',\n",
    "    input = '스타워즈 시리즈의 다스 베이더의 역할에 대해 한 줄로 설명해 주세요.'\n",
    ")"
   ]
  },
  {
   "cell_type": "code",
   "execution_count": 31,
   "id": "b8b30eb9",
   "metadata": {},
   "outputs": [
    {
     "data": {
      "text/plain": [
       "'다스 베이더는 스타워즈 시리즈에서 타락한 제다이로, 은하 제국의 시스 군주이자 루크 스카이워커의 아버지입니다.'"
      ]
     },
     "execution_count": 31,
     "metadata": {},
     "output_type": "execute_result"
    }
   ],
   "source": [
    "response.output_text    # 객체 형식"
   ]
  },
  {
   "cell_type": "code",
   "execution_count": null,
   "id": "7696ab8c",
   "metadata": {},
   "outputs": [
    {
     "name": "stdout",
     "output_type": "stream",
     "text": [
      "다스 베이더는 스타워즈 시리즈에서 선에서 악으로, 다시 구원에 이르는 비극적이면서도 상징적인 캐릭터로, 은하 제국의 공포와 동시에 아버지로서의 인간적인 면모를 보여줍니다.\n"
     ]
    }
   ],
   "source": [
    "response = client.responses.create(\n",
    "    model = 'gpt-4.1',\n",
    "    instructions = '당신은 영화 평론가입니다.', # 역할에 대한 가이드\n",
    "    input = '스타워즈 시리즈의 다스 베이더의 역할에 대해 한 줄로 설명해 주세요.'    # 프롬프트\n",
    ")\n",
    "print(response.output_text)  # 문자열 형식"
   ]
  },
  {
   "cell_type": "code",
   "execution_count": 32,
   "id": "655514f3",
   "metadata": {},
   "outputs": [
    {
     "name": "stdout",
     "output_type": "stream",
     "text": [
      "음식에 대한 이야기라니, 정말 즐거운 주제네요! 😊  \n",
      "오늘은 뭐가 먹고 싶으세요? 간단하게 집에서 해먹을 수 있는 음식, 배달 음식, 아니면 밖에서 외식?  \n",
      "혹시 특별히 땡기는 메뉴나 기분이 있나요?\n",
      "\n",
      "예를 들어,\n",
      "\n",
      "- **든든하게:** 김치찌개, 불고기, 된장찌개, 삼겹살\n",
      "- **가볍게:** 샐러드, 샌드위치, 김밥, 오므라이스\n",
      "- **매콤하게:** 떡볶이, 볶음밥, 불닭, 짬뽕\n",
      "- **달콤하게:** 팬케이크, 와플, 디저트, 아이스크림\n",
      "- **세계 음식:** 파스타, 피자, 쌀국수, 타코\n",
      "\n",
      "오늘의 기분이나 입맛을 조금 더 말해주시면 메뉴를 구체적으로 추천해드릴 수 있어요!\n"
     ]
    }
   ],
   "source": [
    "response = client.responses.create(\n",
    "    model = 'gpt-4.1',\n",
    "    input = [\n",
    "        {\n",
    "            'role' : 'developer',\n",
    "            'content' : '음식에 대한 이야기 하는 것을 좋아해.'\n",
    "        },\n",
    "        {\n",
    "            'role' : 'user',\n",
    "            'content' : '오늘은 무엇을 먹을까?'\n",
    "        }]\n",
    ")\n",
    "print(response.output_text)"
   ]
  },
  {
   "cell_type": "code",
   "execution_count": 33,
   "id": "6305c154",
   "metadata": {},
   "outputs": [],
   "source": [
    "completion = client.chat.completions.create(\n",
    "    model = 'gpt-4.1',\n",
    "    messages= [\n",
    "        {\n",
    "            'role' : 'user',\n",
    "            'content' : '스타워즈 시리즈에 대해 한 문장으로 설명해줘.'\n",
    "        }\n",
    "    ]\n",
    ")"
   ]
  },
  {
   "cell_type": "code",
   "execution_count": 37,
   "id": "88fe2f71",
   "metadata": {},
   "outputs": [
    {
     "data": {
      "text/plain": [
       "'스타워즈 시리즈는 은하계에서 선과 악의 대립, 제다이와 시스의 싸움, 그리고 가족의 운명을 그린 SF 판타지 영화이다.'"
      ]
     },
     "execution_count": 37,
     "metadata": {},
     "output_type": "execute_result"
    }
   ],
   "source": [
    "# dict(completion.choices[0])  # 객체 형식\n",
    "completion.choices[0].message.content"
   ]
  },
  {
   "cell_type": "code",
   "execution_count": 44,
   "id": "71f6258b",
   "metadata": {},
   "outputs": [
    {
     "name": "stdout",
     "output_type": "stream",
     "text": [
      "[입력하신 프롬프트] :  딸기의 GL지수에 대해 간단하게 설명해줘.\n",
      "네, 설명드리겠습니다.\n",
      "\n",
      "**딸기의 GL(Glycemic Load, 혈당부하) 지수**는 딸기를 먹었을 때 혈당에 미치는 실제 영향을 평가하는 수치입니다.\n",
      "\n",
      "- **GL(혈당부하)란?**  \n",
      "  GL은 음식의 GI(Glycemic Index, 혈당지수)와 그 음식의 탄수화물 양을 동시에 고려하는 지표입니다. 즉, 음식 1회분이 실제로 혈당에 얼마나 영향을 주는지 보여줍니다.\n",
      "  - 계산식: GL = GI × 탄수화물 함량(g) / 100\n",
      "\n",
      "- **딸기의 GL**  \n",
      "  딸기의 GI는 약 40(낮은 수준)이고, 100g당 탄수화물 함량은 약 8g 정도입니다.\n",
      "  - 1회분(약 120g, 즉 6~7알)의 GL은 3~4 수준입니다.\n",
      "  - **GL 10 이하:** 낮음(혈당에 거의 영향 없음)\n",
      "  - **GL 11~19:** 중간\n",
      "  - **GL 20 이상:** 높음\n",
      "\n",
      "**정리:**  \n",
      "딸기는 GL이 매우 낮은 과일입니다. 즉, 딸기는 혈당에 미치는 영향이 적어서, 당뇨 등 혈당 관리가 필요한 분들도 적당량은 비교적 부담 없이 섭취할 수 있습니다.\n",
      "\n",
      "궁금한 점 있으시면 더 질문해주세요!\n"
     ]
    }
   ],
   "source": [
    "# Python을 활용한 OpenAI API 호출\n",
    "# 콘솔에서 사용자 입력(질문, 프롬프트)를 받고 응답 처리하는 프로그램을 만들어 봅시다.\n",
    "question= input('무엇을 도와드릴까요? ')\n",
    "response = client.responses.create(\n",
    "    model = 'gpt-4.1',\n",
    "    instructions = '당신은 의사입니다.',\n",
    "    input = question\n",
    ")\n",
    "print('[입력하신 프롬프트] : ', question)\n",
    "print(response.output_text)"
   ]
  },
  {
   "cell_type": "code",
   "execution_count": null,
   "id": "ba6c90f0",
   "metadata": {},
   "outputs": [],
   "source": [
    "# 강사님 코드\n",
    "user_input = input('안녕하세요. 무엇이 궁금하신가요? 질문을 남겨주세요! ')\n",
    "response = client.responses.create(\n",
    "    model='gpt-4.1',\n",
    "    input = [\n",
    "        {\n",
    "            'role': 'developer',\n",
    "            'content': '너는 유치원 선생님이야. 아이들을 대하는 것처럼 이야기해줘.'\n",
    "        },\n",
    "        {\n",
    "            'role': 'user',\n",
    "            'content': user_input\n",
    "}\n",
    "     ]\n",
    ")\n",
    "print(response.output_text)"
   ]
  },
  {
   "cell_type": "code",
   "execution_count": 80,
   "id": "1dd3a55c",
   "metadata": {},
   "outputs": [],
   "source": [
    "import requests\n",
    "\n",
    "def get_weather(latitude, longitude):\n",
    "    response = requests.get(f\"https://api.open-meteo.com/v1/forecast?latitude={latitude}&longitude={longitude}&current=temperature_2m,wind_speed_10m&hourly=temperature_2m,relative_humidity_2m,wind_speed_10m\")\n",
    "    data = response.json()\n",
    "    return data['current']['temperature_2m']"
   ]
  },
  {
   "cell_type": "code",
   "execution_count": 86,
   "id": "8eced5e4",
   "metadata": {},
   "outputs": [],
   "source": [
    "tools = [{\n",
    "    \"type\": \"function\",\n",
    "    \"name\": \"get_weather\",\n",
    "    \"description\": \"Get current temperature for provided coordinates in celsius.\",\n",
    "    \"parameters\": {\n",
    "        \"type\": \"object\",\n",
    "        \"properties\": {\n",
    "        \"latitude\": {\"type\": \"number\"},\n",
    "        \"longitude\": {\"type\": \"number\"}\n",
    "        },\n",
    "        \"required\": [\"latitude\", \"longitude\"],\n",
    "        \"additionalProperties\": False\n",
    "    },\n",
    "    \"strict\": True\n",
    "}]"
   ]
  },
  {
   "cell_type": "code",
   "execution_count": 87,
   "id": "7ecfdc78",
   "metadata": {},
   "outputs": [],
   "source": [
    "input_messages = [{ 'role' : 'user', 'content' : '오늘 파리 날씨 어때?' }]\n",
    "\n",
    "# 함수 호출하는 기능\n",
    "response = client.responses.create(\n",
    "    model='gpt-4.1',\n",
    "    input=input_messages,\n",
    "    tools=tools,\n",
    ")"
   ]
  },
  {
   "cell_type": "code",
   "execution_count": 65,
   "id": "2fea74b1",
   "metadata": {},
   "outputs": [
    {
     "data": {
      "text/plain": [
       "{'arguments': '{\"latitude\":48.8566,\"longitude\":2.3522}',\n",
       " 'call_id': 'call_VfuTqvSDdhst272xlnlH9ubL',\n",
       " 'name': 'get_weather',\n",
       " 'type': 'function_call',\n",
       " 'id': 'fc_685bb189082081989ebeb8b716b6ff7802343dc7d7a75a3c',\n",
       " 'status': 'completed'}"
      ]
     },
     "execution_count": 65,
     "metadata": {},
     "output_type": "execute_result"
    }
   ],
   "source": [
    "dict(response.output[0])"
   ]
  },
  {
   "cell_type": "code",
   "execution_count": 88,
   "id": "ba6abef8",
   "metadata": {},
   "outputs": [
    {
     "name": "stdout",
     "output_type": "stream",
     "text": [
      "23.0\n"
     ]
    }
   ],
   "source": [
    "import json\n",
    "\n",
    "tool_call = response.output[0]\n",
    "args = json.loads(tool_call.arguments)\n",
    "result = get_weather(args['latitude'], args['longitude'])\n",
    "print(result)"
   ]
  },
  {
   "cell_type": "code",
   "execution_count": 89,
   "id": "6d0a4876",
   "metadata": {},
   "outputs": [],
   "source": [
    "input_messages.append(tool_call)\n",
    "input_messages.append({\n",
    "    'type' : 'function_call_output',\n",
    "    'call_id' : tool_call.call_id, # call_id로 수정\n",
    "    'output' : str(result)  # 문자열 반환\n",
    "})\n",
    "\n",
    "# 최종 응답\n",
    "response2 = client.responses.create(\n",
    "    model='gpt-4.1',\n",
    "    input=input_messages,\n",
    "    tools=tools\n",
    ")"
   ]
  },
  {
   "cell_type": "code",
   "execution_count": null,
   "id": "733f7663",
   "metadata": {},
   "outputs": [
    {
     "name": "stdout",
     "output_type": "stream",
     "text": [
      "오늘 파리의 현재 온도는 약 23도입니다. 따뜻하고 쾌적한 날씨일 것으로 보입니다!\n"
     ]
    }
   ],
   "source": [
    "print(response2.output_text)  # 최종 응답 출력\n",
    "\n",
    "# tool_call.call_id 수정 후, 위에서부터 순차적으로 실행했습니다."
   ]
  }
 ],
 "metadata": {
  "kernelspec": {
   "display_name": ".venv",
   "language": "python",
   "name": "python3"
  },
  "language_info": {
   "codemirror_mode": {
    "name": "ipython",
    "version": 3
   },
   "file_extension": ".py",
   "mimetype": "text/x-python",
   "name": "python",
   "nbconvert_exporter": "python",
   "pygments_lexer": "ipython3",
   "version": "3.9.13"
  }
 },
 "nbformat": 4,
 "nbformat_minor": 5
}
